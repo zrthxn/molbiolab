{
 "cells": [
  {
   "cell_type": "markdown",
   "id": "7f3d1c8f-c46b-40c7-998a-5a49b6778662",
   "metadata": {},
   "source": [
    "# NADH Absorption"
   ]
  },
  {
   "cell_type": "code",
   "execution_count": null,
   "id": "09dd2a66-92f8-4348-a137-a4975d32b58c",
   "metadata": {},
   "outputs": [],
   "source": []
  }
 ],
 "metadata": {
  "kernelspec": {
   "display_name": "R",
   "language": "R",
   "name": "ir"
  },
  "language_info": {
   "codemirror_mode": "r",
   "file_extension": ".r",
   "mimetype": "text/x-r-source",
   "name": "R",
   "pygments_lexer": "r",
   "version": "4.3.1"
  }
 },
 "nbformat": 4,
 "nbformat_minor": 5
}
